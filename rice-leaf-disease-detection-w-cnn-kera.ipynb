{
 "cells": [
  {
   "cell_type": "code",
   "execution_count": 3,
   "metadata": {
    "_cell_guid": "b1076dfc-b9ad-4769-8c92-a6c4dae69d19",
    "_kg_hide-output": true,
    "_uuid": "8f2839f25d086af736a60e9eeb907d3b93b6e0e5",
    "execution": {
     "iopub.execute_input": "2024-03-16T17:25:51.078101Z",
     "iopub.status.busy": "2024-03-16T17:25:51.077528Z",
     "iopub.status.idle": "2024-03-16T17:26:04.97941Z",
     "shell.execute_reply": "2024-03-16T17:26:04.978367Z",
     "shell.execute_reply.started": "2024-03-16T17:25:51.078074Z"
    },
    "trusted": true
   },
   "outputs": [
    {
     "name": "stdout",
     "output_type": "stream",
     "text": [
      "Requirement already satisfied: numpy in c:\\users\\venkat\\appdata\\local\\packages\\pythonsoftwarefoundation.python.3.11_qbz5n2kfra8p0\\localcache\\local-packages\\python311\\site-packages (2.0.2)\n",
      "Collecting numpy\n",
      "  Downloading numpy-2.2.2-cp311-cp311-win_amd64.whl.metadata (60 kB)\n",
      "     ---------------------------------------- 0.0/60.8 kB ? eta -:--:--\n",
      "     ------------ ------------------------- 20.5/60.8 kB 222.6 kB/s eta 0:00:01\n",
      "     ------------------- ------------------ 30.7/60.8 kB 220.2 kB/s eta 0:00:01\n",
      "     ------------------------------- ------ 51.2/60.8 kB 327.7 kB/s eta 0:00:01\n",
      "     -------------------------------------- 60.8/60.8 kB 324.4 kB/s eta 0:00:00\n",
      "Requirement already satisfied: matplotlib in c:\\users\\venkat\\appdata\\local\\packages\\pythonsoftwarefoundation.python.3.11_qbz5n2kfra8p0\\localcache\\local-packages\\python311\\site-packages (3.7.2)\n",
      "Collecting matplotlib\n",
      "  Downloading matplotlib-3.10.0-cp311-cp311-win_amd64.whl.metadata (11 kB)\n",
      "Requirement already satisfied: contourpy>=1.0.1 in c:\\users\\venkat\\appdata\\local\\packages\\pythonsoftwarefoundation.python.3.11_qbz5n2kfra8p0\\localcache\\local-packages\\python311\\site-packages (from matplotlib) (1.3.1)\n",
      "Requirement already satisfied: cycler>=0.10 in c:\\users\\venkat\\appdata\\local\\packages\\pythonsoftwarefoundation.python.3.11_qbz5n2kfra8p0\\localcache\\local-packages\\python311\\site-packages (from matplotlib) (0.11.0)\n",
      "Requirement already satisfied: fonttools>=4.22.0 in c:\\users\\venkat\\appdata\\local\\packages\\pythonsoftwarefoundation.python.3.11_qbz5n2kfra8p0\\localcache\\local-packages\\python311\\site-packages (from matplotlib) (4.42.1)\n",
      "Requirement already satisfied: kiwisolver>=1.3.1 in c:\\users\\venkat\\appdata\\local\\packages\\pythonsoftwarefoundation.python.3.11_qbz5n2kfra8p0\\localcache\\local-packages\\python311\\site-packages (from matplotlib) (1.4.4)\n",
      "Requirement already satisfied: packaging>=20.0 in c:\\users\\venkat\\appdata\\local\\packages\\pythonsoftwarefoundation.python.3.11_qbz5n2kfra8p0\\localcache\\local-packages\\python311\\site-packages (from matplotlib) (23.1)\n",
      "Requirement already satisfied: pillow>=8 in c:\\users\\venkat\\appdata\\local\\packages\\pythonsoftwarefoundation.python.3.11_qbz5n2kfra8p0\\localcache\\local-packages\\python311\\site-packages (from matplotlib) (10.0.0)\n",
      "Requirement already satisfied: pyparsing>=2.3.1 in c:\\users\\venkat\\appdata\\local\\packages\\pythonsoftwarefoundation.python.3.11_qbz5n2kfra8p0\\localcache\\local-packages\\python311\\site-packages (from matplotlib) (3.0.9)\n",
      "Requirement already satisfied: python-dateutil>=2.7 in c:\\users\\venkat\\appdata\\local\\packages\\pythonsoftwarefoundation.python.3.11_qbz5n2kfra8p0\\localcache\\local-packages\\python311\\site-packages (from matplotlib) (2.8.2)\n",
      "Requirement already satisfied: six>=1.5 in c:\\users\\venkat\\appdata\\local\\packages\\pythonsoftwarefoundation.python.3.11_qbz5n2kfra8p0\\localcache\\local-packages\\python311\\site-packages (from python-dateutil>=2.7->matplotlib) (1.16.0)\n",
      "Downloading numpy-2.2.2-cp311-cp311-win_amd64.whl (12.9 MB)\n",
      "   ---------------------------------------- 0.0/12.9 MB ? eta -:--:--\n",
      "   ---------------------------------------- 0.1/12.9 MB 1.7 MB/s eta 0:00:08\n",
      "    --------------------------------------- 0.2/12.9 MB 2.2 MB/s eta 0:00:06\n",
      "   - -------------------------------------- 0.5/12.9 MB 3.6 MB/s eta 0:00:04\n",
      "   -- ------------------------------------- 0.7/12.9 MB 3.9 MB/s eta 0:00:04\n",
      "   ---- ----------------------------------- 1.3/12.9 MB 5.9 MB/s eta 0:00:02\n",
      "   ------ --------------------------------- 2.0/12.9 MB 7.4 MB/s eta 0:00:02\n",
      "   -------- ------------------------------- 2.6/12.9 MB 8.4 MB/s eta 0:00:02\n",
      "   ------------ --------------------------- 3.9/12.9 MB 10.9 MB/s eta 0:00:01\n",
      "   ------------- -------------------------- 4.4/12.9 MB 11.3 MB/s eta 0:00:01\n",
      "   ---------------- ----------------------- 5.3/12.9 MB 12.6 MB/s eta 0:00:01\n",
      "   -------------------- ------------------- 6.6/12.9 MB 13.7 MB/s eta 0:00:01\n",
      "   ----------------------- ---------------- 7.5/12.9 MB 14.6 MB/s eta 0:00:01\n",
      "   -------------------------- ------------- 8.5/12.9 MB 15.1 MB/s eta 0:00:01\n",
      "   ----------------------------- ---------- 9.6/12.9 MB 16.2 MB/s eta 0:00:01\n",
      "   --------------------------------- ------ 10.9/12.9 MB 21.1 MB/s eta 0:00:01\n",
      "   ----------------------------------- ---- 11.5/12.9 MB 21.1 MB/s eta 0:00:01\n",
      "   -------------------------------------- - 12.6/12.9 MB 22.6 MB/s eta 0:00:01\n",
      "   ---------------------------------------  12.9/12.9 MB 23.4 MB/s eta 0:00:01\n",
      "   ---------------------------------------  12.9/12.9 MB 23.4 MB/s eta 0:00:01\n",
      "   ---------------------------------------- 12.9/12.9 MB 19.8 MB/s eta 0:00:00\n",
      "Downloading matplotlib-3.10.0-cp311-cp311-win_amd64.whl (8.0 MB)\n",
      "   ---------------------------------------- 0.0/8.0 MB ? eta -:--:--\n",
      "   ------ --------------------------------- 1.4/8.0 MB 28.5 MB/s eta 0:00:01\n",
      "   ------------ --------------------------- 2.5/8.0 MB 31.6 MB/s eta 0:00:01\n",
      "   ------------------ --------------------- 3.7/8.0 MB 26.4 MB/s eta 0:00:01\n",
      "   -------------------------- ------------- 5.4/8.0 MB 28.6 MB/s eta 0:00:01\n",
      "   --------------------------------- ------ 6.8/8.0 MB 31.0 MB/s eta 0:00:01\n",
      "   ------------------------------------- -- 7.5/8.0 MB 28.3 MB/s eta 0:00:01\n",
      "   ---------------------------------------  8.0/8.0 MB 28.4 MB/s eta 0:00:01\n",
      "   ---------------------------------------- 8.0/8.0 MB 24.5 MB/s eta 0:00:00\n",
      "Installing collected packages: numpy, matplotlib\n",
      "  Attempting uninstall: numpy\n",
      "    Found existing installation: numpy 2.0.2\n",
      "    Uninstalling numpy-2.0.2:\n",
      "      Successfully uninstalled numpy-2.0.2\n",
      "  Attempting uninstall: matplotlib\n",
      "    Found existing installation: matplotlib 3.7.2\n",
      "    Uninstalling matplotlib-3.7.2:\n",
      "      Successfully uninstalled matplotlib-3.7.2\n",
      "Successfully installed matplotlib-3.10.0 numpy-2.2.2\n",
      "Note: you may need to restart the kernel to use updated packages.\n"
     ]
    },
    {
     "name": "stderr",
     "output_type": "stream",
     "text": [
      "  WARNING: Failed to remove contents in a temporary directory 'C:\\Users\\VENKAT\\AppData\\Local\\Packages\\PythonSoftwareFoundation.Python.3.11_qbz5n2kfra8p0\\LocalCache\\local-packages\\Python311\\site-packages\\~umpy.libs'.\n",
      "  You can safely remove it manually.\n",
      "  WARNING: Failed to remove contents in a temporary directory 'C:\\Users\\VENKAT\\AppData\\Local\\Packages\\PythonSoftwareFoundation.Python.3.11_qbz5n2kfra8p0\\LocalCache\\local-packages\\Python311\\site-packages\\~~mpy'.\n",
      "  You can safely remove it manually.\n",
      "  WARNING: Failed to remove contents in a temporary directory 'C:\\Users\\VENKAT\\AppData\\Local\\Packages\\PythonSoftwareFoundation.Python.3.11_qbz5n2kfra8p0\\LocalCache\\local-packages\\Python311\\site-packages\\~atplotlib.libs'.\n",
      "  You can safely remove it manually.\n",
      "  WARNING: Failed to remove contents in a temporary directory 'C:\\Users\\VENKAT\\AppData\\Local\\Packages\\PythonSoftwareFoundation.Python.3.11_qbz5n2kfra8p0\\LocalCache\\local-packages\\Python311\\site-packages\\~atplotlib'.\n",
      "  You can safely remove it manually.\n",
      "\n",
      "[notice] A new release of pip is available: 24.0 -> 25.0\n",
      "[notice] To update, run: C:\\Users\\VENKAT\\AppData\\Local\\Microsoft\\WindowsApps\\PythonSoftwareFoundation.Python.3.11_qbz5n2kfra8p0\\python.exe -m pip install --upgrade pip\n"
     ]
    }
   ],
   "source": [
    "pip install --upgrade numpy matplotlib\n"
   ]
  },
  {
   "cell_type": "code",
   "execution_count": 10,
   "metadata": {},
   "outputs": [
    {
     "name": "stdout",
     "output_type": "stream",
     "text": [
      "^C\n",
      "Requirement already satisfied: numpy in c:\\users\\venkat\\appdata\\local\\packages\\pythonsoftwarefoundation.python.3.11_qbz5n2kfra8p0\\localcache\\local-packages\\python311\\site-packages (2.2.2)\n"
     ]
    },
    {
     "name": "stderr",
     "output_type": "stream",
     "text": [
      "\n",
      "[notice] A new release of pip is available: 24.0 -> 25.0\n",
      "[notice] To update, run: C:\\Users\\VENKAT\\AppData\\Local\\Microsoft\\WindowsApps\\PythonSoftwareFoundation.Python.3.11_qbz5n2kfra8p0\\python.exe -m pip install --upgrade pip\n"
     ]
    }
   ],
   "source": [
    "!pip uninstall numpy\n",
    "!pip install numpy\n"
   ]
  },
  {
   "cell_type": "code",
   "execution_count": null,
   "metadata": {
    "execution": {
     "iopub.execute_input": "2024-03-16T17:26:04.981765Z",
     "iopub.status.busy": "2024-03-16T17:26:04.981447Z",
     "iopub.status.idle": "2024-03-16T17:26:05.572023Z",
     "shell.execute_reply": "2024-03-16T17:26:05.571237Z",
     "shell.execute_reply.started": "2024-03-16T17:26:04.981732Z"
    },
    "trusted": true
   },
   "outputs": [
    {
     "name": "stderr",
     "output_type": "stream",
     "text": [
      "\n",
      "A module that was compiled using NumPy 1.x cannot be run in\n",
      "NumPy 2.0.2 as it may crash. To support both 1.x and 2.x\n",
      "versions of NumPy, modules must be compiled with NumPy 2.0.\n",
      "Some module may need to rebuild instead e.g. with 'pybind11>=2.12'.\n",
      "\n",
      "If you are a user of the module, the easiest solution will be to\n",
      "downgrade to 'numpy<2' or try to upgrade the affected module.\n",
      "We expect that some modules will need time to support NumPy 2.\n",
      "\n",
      "Traceback (most recent call last):  File \"<frozen runpy>\", line 198, in _run_module_as_main\n",
      "  File \"<frozen runpy>\", line 88, in _run_code\n",
      "  File \"C:\\Users\\VENKAT\\AppData\\Local\\Packages\\PythonSoftwareFoundation.Python.3.11_qbz5n2kfra8p0\\LocalCache\\local-packages\\Python311\\site-packages\\ipykernel_launcher.py\", line 17, in <module>\n",
      "    app.launch_new_instance()\n",
      "  File \"C:\\Users\\VENKAT\\AppData\\Local\\Packages\\PythonSoftwareFoundation.Python.3.11_qbz5n2kfra8p0\\LocalCache\\local-packages\\Python311\\site-packages\\traitlets\\config\\application.py\", line 1043, in launch_instance\n",
      "    app.start()\n",
      "  File \"C:\\Users\\VENKAT\\AppData\\Local\\Packages\\PythonSoftwareFoundation.Python.3.11_qbz5n2kfra8p0\\LocalCache\\local-packages\\Python311\\site-packages\\ipykernel\\kernelapp.py\", line 736, in start\n",
      "    self.io_loop.start()\n",
      "  File \"C:\\Users\\VENKAT\\AppData\\Local\\Packages\\PythonSoftwareFoundation.Python.3.11_qbz5n2kfra8p0\\LocalCache\\local-packages\\Python311\\site-packages\\tornado\\platform\\asyncio.py\", line 195, in start\n",
      "    self.asyncio_loop.run_forever()\n",
      "  File \"C:\\Program Files\\WindowsApps\\PythonSoftwareFoundation.Python.3.11_3.11.2544.0_x64__qbz5n2kfra8p0\\Lib\\asyncio\\base_events.py\", line 608, in run_forever\n",
      "    self._run_once()\n",
      "  File \"C:\\Program Files\\WindowsApps\\PythonSoftwareFoundation.Python.3.11_3.11.2544.0_x64__qbz5n2kfra8p0\\Lib\\asyncio\\base_events.py\", line 1936, in _run_once\n",
      "    handle._run()\n",
      "  File \"C:\\Program Files\\WindowsApps\\PythonSoftwareFoundation.Python.3.11_3.11.2544.0_x64__qbz5n2kfra8p0\\Lib\\asyncio\\events.py\", line 84, in _run\n",
      "    self._context.run(self._callback, *self._args)\n",
      "  File \"C:\\Users\\VENKAT\\AppData\\Local\\Packages\\PythonSoftwareFoundation.Python.3.11_qbz5n2kfra8p0\\LocalCache\\local-packages\\Python311\\site-packages\\ipykernel\\kernelbase.py\", line 516, in dispatch_queue\n",
      "    await self.process_one()\n",
      "  File \"C:\\Users\\VENKAT\\AppData\\Local\\Packages\\PythonSoftwareFoundation.Python.3.11_qbz5n2kfra8p0\\LocalCache\\local-packages\\Python311\\site-packages\\ipykernel\\kernelbase.py\", line 505, in process_one\n",
      "    await dispatch(*args)\n",
      "  File \"C:\\Users\\VENKAT\\AppData\\Local\\Packages\\PythonSoftwareFoundation.Python.3.11_qbz5n2kfra8p0\\LocalCache\\local-packages\\Python311\\site-packages\\ipykernel\\kernelbase.py\", line 412, in dispatch_shell\n",
      "    await result\n",
      "  File \"C:\\Users\\VENKAT\\AppData\\Local\\Packages\\PythonSoftwareFoundation.Python.3.11_qbz5n2kfra8p0\\LocalCache\\local-packages\\Python311\\site-packages\\ipykernel\\kernelbase.py\", line 740, in execute_request\n",
      "    reply_content = await reply_content\n",
      "  File \"C:\\Users\\VENKAT\\AppData\\Local\\Packages\\PythonSoftwareFoundation.Python.3.11_qbz5n2kfra8p0\\LocalCache\\local-packages\\Python311\\site-packages\\ipykernel\\ipkernel.py\", line 422, in do_execute\n",
      "    res = shell.run_cell(\n",
      "  File \"C:\\Users\\VENKAT\\AppData\\Local\\Packages\\PythonSoftwareFoundation.Python.3.11_qbz5n2kfra8p0\\LocalCache\\local-packages\\Python311\\site-packages\\ipykernel\\zmqshell.py\", line 546, in run_cell\n",
      "    return super().run_cell(*args, **kwargs)\n",
      "  File \"C:\\Users\\VENKAT\\AppData\\Local\\Packages\\PythonSoftwareFoundation.Python.3.11_qbz5n2kfra8p0\\LocalCache\\local-packages\\Python311\\site-packages\\IPython\\core\\interactiveshell.py\", line 3009, in run_cell\n",
      "    result = self._run_cell(\n",
      "  File \"C:\\Users\\VENKAT\\AppData\\Local\\Packages\\PythonSoftwareFoundation.Python.3.11_qbz5n2kfra8p0\\LocalCache\\local-packages\\Python311\\site-packages\\IPython\\core\\interactiveshell.py\", line 3064, in _run_cell\n",
      "    result = runner(coro)\n",
      "  File \"C:\\Users\\VENKAT\\AppData\\Local\\Packages\\PythonSoftwareFoundation.Python.3.11_qbz5n2kfra8p0\\LocalCache\\local-packages\\Python311\\site-packages\\IPython\\core\\async_helpers.py\", line 129, in _pseudo_sync_runner\n",
      "    coro.send(None)\n",
      "  File \"C:\\Users\\VENKAT\\AppData\\Local\\Packages\\PythonSoftwareFoundation.Python.3.11_qbz5n2kfra8p0\\LocalCache\\local-packages\\Python311\\site-packages\\IPython\\core\\interactiveshell.py\", line 3269, in run_cell_async\n",
      "    has_raised = await self.run_ast_nodes(code_ast.body, cell_name,\n",
      "  File \"C:\\Users\\VENKAT\\AppData\\Local\\Packages\\PythonSoftwareFoundation.Python.3.11_qbz5n2kfra8p0\\LocalCache\\local-packages\\Python311\\site-packages\\IPython\\core\\interactiveshell.py\", line 3448, in run_ast_nodes\n",
      "    if await self.run_code(code, result, async_=asy):\n",
      "  File \"C:\\Users\\VENKAT\\AppData\\Local\\Packages\\PythonSoftwareFoundation.Python.3.11_qbz5n2kfra8p0\\LocalCache\\local-packages\\Python311\\site-packages\\IPython\\core\\interactiveshell.py\", line 3508, in run_code\n",
      "    exec(code_obj, self.user_global_ns, self.user_ns)\n",
      "  File \"C:\\Users\\VENKAT\\AppData\\Local\\Temp\\ipykernel_23540\\2395602722.py\", line 5, in <module>\n",
      "    import matplotlib.pyplot as plt\n",
      "  File \"C:\\Users\\VENKAT\\AppData\\Local\\Packages\\PythonSoftwareFoundation.Python.3.11_qbz5n2kfra8p0\\LocalCache\\local-packages\\Python311\\site-packages\\matplotlib\\__init__.py\", line 161, in <module>\n",
      "    from . import _api, _version, cbook, _docstring, rcsetup\n",
      "  File \"C:\\Users\\VENKAT\\AppData\\Local\\Packages\\PythonSoftwareFoundation.Python.3.11_qbz5n2kfra8p0\\LocalCache\\local-packages\\Python311\\site-packages\\matplotlib\\rcsetup.py\", line 28, in <module>\n",
      "    from matplotlib.colors import Colormap, is_color_like\n",
      "  File \"C:\\Users\\VENKAT\\AppData\\Local\\Packages\\PythonSoftwareFoundation.Python.3.11_qbz5n2kfra8p0\\LocalCache\\local-packages\\Python311\\site-packages\\matplotlib\\colors.py\", line 57, in <module>\n",
      "    from matplotlib import _api, _cm, cbook, scale, _image\n",
      "  File \"C:\\Users\\VENKAT\\AppData\\Local\\Packages\\PythonSoftwareFoundation.Python.3.11_qbz5n2kfra8p0\\LocalCache\\local-packages\\Python311\\site-packages\\matplotlib\\scale.py\", line 22, in <module>\n",
      "    from matplotlib.ticker import (\n",
      "  File \"C:\\Users\\VENKAT\\AppData\\Local\\Packages\\PythonSoftwareFoundation.Python.3.11_qbz5n2kfra8p0\\LocalCache\\local-packages\\Python311\\site-packages\\matplotlib\\ticker.py\", line 144, in <module>\n",
      "    from matplotlib import transforms as mtransforms\n",
      "  File \"C:\\Users\\VENKAT\\AppData\\Local\\Packages\\PythonSoftwareFoundation.Python.3.11_qbz5n2kfra8p0\\LocalCache\\local-packages\\Python311\\site-packages\\matplotlib\\transforms.py\", line 49, in <module>\n",
      "    from matplotlib._path import (\n"
     ]
    },
    {
     "ename": "AttributeError",
     "evalue": "_ARRAY_API not found",
     "output_type": "error",
     "traceback": [
      "\u001b[1;31m---------------------------------------------------------------------------\u001b[0m",
      "\u001b[1;31mAttributeError\u001b[0m                            Traceback (most recent call last)",
      "\u001b[1;31mAttributeError\u001b[0m: _ARRAY_API not found"
     ]
    },
    {
     "ename": "ImportError",
     "evalue": "numpy.core.multiarray failed to import",
     "output_type": "error",
     "traceback": [
      "\u001b[1;31m---------------------------------------------------------------------------\u001b[0m",
      "\u001b[1;31mImportError\u001b[0m                               Traceback (most recent call last)",
      "Cell \u001b[1;32mIn[11], line 5\u001b[0m\n\u001b[0;32m      3\u001b[0m \u001b[38;5;28;01mimport\u001b[39;00m \u001b[38;5;21;01mnumpy\u001b[39;00m \u001b[38;5;28;01mas\u001b[39;00m \u001b[38;5;21;01mnp\u001b[39;00m\n\u001b[0;32m      4\u001b[0m \u001b[38;5;28;01mimport\u001b[39;00m \u001b[38;5;21;01mpandas\u001b[39;00m \u001b[38;5;28;01mas\u001b[39;00m \u001b[38;5;21;01mpd\u001b[39;00m\n\u001b[1;32m----> 5\u001b[0m \u001b[38;5;28;01mimport\u001b[39;00m \u001b[38;5;21;01mmatplotlib\u001b[39;00m\u001b[38;5;21;01m.\u001b[39;00m\u001b[38;5;21;01mpyplot\u001b[39;00m \u001b[38;5;28;01mas\u001b[39;00m \u001b[38;5;21;01mplt\u001b[39;00m\n",
      "File \u001b[1;32m~\\AppData\\Local\\Packages\\PythonSoftwareFoundation.Python.3.11_qbz5n2kfra8p0\\LocalCache\\local-packages\\Python311\\site-packages\\matplotlib\\__init__.py:161\u001b[0m\n\u001b[0;32m    157\u001b[0m \u001b[38;5;28;01mfrom\u001b[39;00m \u001b[38;5;21;01mpackaging\u001b[39;00m\u001b[38;5;21;01m.\u001b[39;00m\u001b[38;5;21;01mversion\u001b[39;00m \u001b[38;5;28;01mimport\u001b[39;00m parse \u001b[38;5;28;01mas\u001b[39;00m parse_version\n\u001b[0;32m    159\u001b[0m \u001b[38;5;66;03m# cbook must import matplotlib only within function\u001b[39;00m\n\u001b[0;32m    160\u001b[0m \u001b[38;5;66;03m# definitions, so it is safe to import from it here.\u001b[39;00m\n\u001b[1;32m--> 161\u001b[0m \u001b[38;5;28;01mfrom\u001b[39;00m \u001b[38;5;21;01m.\u001b[39;00m \u001b[38;5;28;01mimport\u001b[39;00m _api, _version, cbook, _docstring, rcsetup\n\u001b[0;32m    162\u001b[0m \u001b[38;5;28;01mfrom\u001b[39;00m \u001b[38;5;21;01mmatplotlib\u001b[39;00m\u001b[38;5;21;01m.\u001b[39;00m\u001b[38;5;21;01m_api\u001b[39;00m \u001b[38;5;28;01mimport\u001b[39;00m MatplotlibDeprecationWarning\n\u001b[0;32m    163\u001b[0m \u001b[38;5;28;01mfrom\u001b[39;00m \u001b[38;5;21;01mmatplotlib\u001b[39;00m\u001b[38;5;21;01m.\u001b[39;00m\u001b[38;5;21;01mrcsetup\u001b[39;00m \u001b[38;5;28;01mimport\u001b[39;00m cycler  \u001b[38;5;66;03m# noqa: F401\u001b[39;00m\n",
      "File \u001b[1;32m~\\AppData\\Local\\Packages\\PythonSoftwareFoundation.Python.3.11_qbz5n2kfra8p0\\LocalCache\\local-packages\\Python311\\site-packages\\matplotlib\\rcsetup.py:28\u001b[0m\n\u001b[0;32m     26\u001b[0m \u001b[38;5;28;01mfrom\u001b[39;00m \u001b[38;5;21;01mmatplotlib\u001b[39;00m\u001b[38;5;21;01m.\u001b[39;00m\u001b[38;5;21;01mbackends\u001b[39;00m \u001b[38;5;28;01mimport\u001b[39;00m BackendFilter, backend_registry\n\u001b[0;32m     27\u001b[0m \u001b[38;5;28;01mfrom\u001b[39;00m \u001b[38;5;21;01mmatplotlib\u001b[39;00m\u001b[38;5;21;01m.\u001b[39;00m\u001b[38;5;21;01mcbook\u001b[39;00m \u001b[38;5;28;01mimport\u001b[39;00m ls_mapper\n\u001b[1;32m---> 28\u001b[0m \u001b[38;5;28;01mfrom\u001b[39;00m \u001b[38;5;21;01mmatplotlib\u001b[39;00m\u001b[38;5;21;01m.\u001b[39;00m\u001b[38;5;21;01mcolors\u001b[39;00m \u001b[38;5;28;01mimport\u001b[39;00m Colormap, is_color_like\n\u001b[0;32m     29\u001b[0m \u001b[38;5;28;01mfrom\u001b[39;00m \u001b[38;5;21;01mmatplotlib\u001b[39;00m\u001b[38;5;21;01m.\u001b[39;00m\u001b[38;5;21;01m_fontconfig_pattern\u001b[39;00m \u001b[38;5;28;01mimport\u001b[39;00m parse_fontconfig_pattern\n\u001b[0;32m     30\u001b[0m \u001b[38;5;28;01mfrom\u001b[39;00m \u001b[38;5;21;01mmatplotlib\u001b[39;00m\u001b[38;5;21;01m.\u001b[39;00m\u001b[38;5;21;01m_enums\u001b[39;00m \u001b[38;5;28;01mimport\u001b[39;00m JoinStyle, CapStyle\n",
      "File \u001b[1;32m~\\AppData\\Local\\Packages\\PythonSoftwareFoundation.Python.3.11_qbz5n2kfra8p0\\LocalCache\\local-packages\\Python311\\site-packages\\matplotlib\\colors.py:57\u001b[0m\n\u001b[0;32m     55\u001b[0m \u001b[38;5;28;01mimport\u001b[39;00m \u001b[38;5;21;01mmatplotlib\u001b[39;00m \u001b[38;5;28;01mas\u001b[39;00m \u001b[38;5;21;01mmpl\u001b[39;00m\n\u001b[0;32m     56\u001b[0m \u001b[38;5;28;01mimport\u001b[39;00m \u001b[38;5;21;01mnumpy\u001b[39;00m \u001b[38;5;28;01mas\u001b[39;00m \u001b[38;5;21;01mnp\u001b[39;00m\n\u001b[1;32m---> 57\u001b[0m \u001b[38;5;28;01mfrom\u001b[39;00m \u001b[38;5;21;01mmatplotlib\u001b[39;00m \u001b[38;5;28;01mimport\u001b[39;00m _api, _cm, cbook, scale, _image\n\u001b[0;32m     58\u001b[0m \u001b[38;5;28;01mfrom\u001b[39;00m \u001b[38;5;21;01m.\u001b[39;00m\u001b[38;5;21;01m_color_data\u001b[39;00m \u001b[38;5;28;01mimport\u001b[39;00m BASE_COLORS, TABLEAU_COLORS, CSS4_COLORS, XKCD_COLORS\n\u001b[0;32m     61\u001b[0m \u001b[38;5;28;01mclass\u001b[39;00m \u001b[38;5;21;01m_ColorMapping\u001b[39;00m(\u001b[38;5;28mdict\u001b[39m):\n",
      "File \u001b[1;32m~\\AppData\\Local\\Packages\\PythonSoftwareFoundation.Python.3.11_qbz5n2kfra8p0\\LocalCache\\local-packages\\Python311\\site-packages\\matplotlib\\scale.py:22\u001b[0m\n\u001b[0;32m     20\u001b[0m \u001b[38;5;28;01mimport\u001b[39;00m \u001b[38;5;21;01mmatplotlib\u001b[39;00m \u001b[38;5;28;01mas\u001b[39;00m \u001b[38;5;21;01mmpl\u001b[39;00m\n\u001b[0;32m     21\u001b[0m \u001b[38;5;28;01mfrom\u001b[39;00m \u001b[38;5;21;01mmatplotlib\u001b[39;00m \u001b[38;5;28;01mimport\u001b[39;00m _api, _docstring\n\u001b[1;32m---> 22\u001b[0m \u001b[38;5;28;01mfrom\u001b[39;00m \u001b[38;5;21;01mmatplotlib\u001b[39;00m\u001b[38;5;21;01m.\u001b[39;00m\u001b[38;5;21;01mticker\u001b[39;00m \u001b[38;5;28;01mimport\u001b[39;00m (\n\u001b[0;32m     23\u001b[0m     NullFormatter, ScalarFormatter, LogFormatterSciNotation, LogitFormatter,\n\u001b[0;32m     24\u001b[0m     NullLocator, LogLocator, AutoLocator, AutoMinorLocator,\n\u001b[0;32m     25\u001b[0m     SymmetricalLogLocator, AsinhLocator, LogitLocator)\n\u001b[0;32m     26\u001b[0m \u001b[38;5;28;01mfrom\u001b[39;00m \u001b[38;5;21;01mmatplotlib\u001b[39;00m\u001b[38;5;21;01m.\u001b[39;00m\u001b[38;5;21;01mtransforms\u001b[39;00m \u001b[38;5;28;01mimport\u001b[39;00m Transform, IdentityTransform\n\u001b[0;32m     29\u001b[0m \u001b[38;5;28;01mclass\u001b[39;00m \u001b[38;5;21;01mScaleBase\u001b[39;00m:\n",
      "File \u001b[1;32m~\\AppData\\Local\\Packages\\PythonSoftwareFoundation.Python.3.11_qbz5n2kfra8p0\\LocalCache\\local-packages\\Python311\\site-packages\\matplotlib\\ticker.py:144\u001b[0m\n\u001b[0;32m    142\u001b[0m \u001b[38;5;28;01mimport\u001b[39;00m \u001b[38;5;21;01mmatplotlib\u001b[39;00m \u001b[38;5;28;01mas\u001b[39;00m \u001b[38;5;21;01mmpl\u001b[39;00m\n\u001b[0;32m    143\u001b[0m \u001b[38;5;28;01mfrom\u001b[39;00m \u001b[38;5;21;01mmatplotlib\u001b[39;00m \u001b[38;5;28;01mimport\u001b[39;00m _api, cbook\n\u001b[1;32m--> 144\u001b[0m \u001b[38;5;28;01mfrom\u001b[39;00m \u001b[38;5;21;01mmatplotlib\u001b[39;00m \u001b[38;5;28;01mimport\u001b[39;00m transforms \u001b[38;5;28;01mas\u001b[39;00m mtransforms\n\u001b[0;32m    146\u001b[0m _log \u001b[38;5;241m=\u001b[39m logging\u001b[38;5;241m.\u001b[39mgetLogger(\u001b[38;5;18m__name__\u001b[39m)\n\u001b[0;32m    148\u001b[0m __all__ \u001b[38;5;241m=\u001b[39m (\u001b[38;5;124m'\u001b[39m\u001b[38;5;124mTickHelper\u001b[39m\u001b[38;5;124m'\u001b[39m, \u001b[38;5;124m'\u001b[39m\u001b[38;5;124mFormatter\u001b[39m\u001b[38;5;124m'\u001b[39m, \u001b[38;5;124m'\u001b[39m\u001b[38;5;124mFixedFormatter\u001b[39m\u001b[38;5;124m'\u001b[39m,\n\u001b[0;32m    149\u001b[0m            \u001b[38;5;124m'\u001b[39m\u001b[38;5;124mNullFormatter\u001b[39m\u001b[38;5;124m'\u001b[39m, \u001b[38;5;124m'\u001b[39m\u001b[38;5;124mFuncFormatter\u001b[39m\u001b[38;5;124m'\u001b[39m, \u001b[38;5;124m'\u001b[39m\u001b[38;5;124mFormatStrFormatter\u001b[39m\u001b[38;5;124m'\u001b[39m,\n\u001b[0;32m    150\u001b[0m            \u001b[38;5;124m'\u001b[39m\u001b[38;5;124mStrMethodFormatter\u001b[39m\u001b[38;5;124m'\u001b[39m, \u001b[38;5;124m'\u001b[39m\u001b[38;5;124mScalarFormatter\u001b[39m\u001b[38;5;124m'\u001b[39m, \u001b[38;5;124m'\u001b[39m\u001b[38;5;124mLogFormatter\u001b[39m\u001b[38;5;124m'\u001b[39m,\n\u001b[1;32m   (...)\u001b[0m\n\u001b[0;32m    156\u001b[0m            \u001b[38;5;124m'\u001b[39m\u001b[38;5;124mMultipleLocator\u001b[39m\u001b[38;5;124m'\u001b[39m, \u001b[38;5;124m'\u001b[39m\u001b[38;5;124mMaxNLocator\u001b[39m\u001b[38;5;124m'\u001b[39m, \u001b[38;5;124m'\u001b[39m\u001b[38;5;124mAutoMinorLocator\u001b[39m\u001b[38;5;124m'\u001b[39m,\n\u001b[0;32m    157\u001b[0m            \u001b[38;5;124m'\u001b[39m\u001b[38;5;124mSymmetricalLogLocator\u001b[39m\u001b[38;5;124m'\u001b[39m, \u001b[38;5;124m'\u001b[39m\u001b[38;5;124mAsinhLocator\u001b[39m\u001b[38;5;124m'\u001b[39m, \u001b[38;5;124m'\u001b[39m\u001b[38;5;124mLogitLocator\u001b[39m\u001b[38;5;124m'\u001b[39m)\n",
      "File \u001b[1;32m~\\AppData\\Local\\Packages\\PythonSoftwareFoundation.Python.3.11_qbz5n2kfra8p0\\LocalCache\\local-packages\\Python311\\site-packages\\matplotlib\\transforms.py:49\u001b[0m\n\u001b[0;32m     46\u001b[0m \u001b[38;5;28;01mfrom\u001b[39;00m \u001b[38;5;21;01mnumpy\u001b[39;00m\u001b[38;5;21;01m.\u001b[39;00m\u001b[38;5;21;01mlinalg\u001b[39;00m \u001b[38;5;28;01mimport\u001b[39;00m inv\n\u001b[0;32m     48\u001b[0m \u001b[38;5;28;01mfrom\u001b[39;00m \u001b[38;5;21;01mmatplotlib\u001b[39;00m \u001b[38;5;28;01mimport\u001b[39;00m _api\n\u001b[1;32m---> 49\u001b[0m \u001b[38;5;28;01mfrom\u001b[39;00m \u001b[38;5;21;01mmatplotlib\u001b[39;00m\u001b[38;5;21;01m.\u001b[39;00m\u001b[38;5;21;01m_path\u001b[39;00m \u001b[38;5;28;01mimport\u001b[39;00m (\n\u001b[0;32m     50\u001b[0m     affine_transform, count_bboxes_overlapping_bbox, update_path_extents)\n\u001b[0;32m     51\u001b[0m \u001b[38;5;28;01mfrom\u001b[39;00m \u001b[38;5;21;01m.\u001b[39;00m\u001b[38;5;21;01mpath\u001b[39;00m \u001b[38;5;28;01mimport\u001b[39;00m Path\n\u001b[0;32m     53\u001b[0m DEBUG \u001b[38;5;241m=\u001b[39m \u001b[38;5;28;01mFalse\u001b[39;00m\n",
      "\u001b[1;31mImportError\u001b[0m: numpy.core.multiarray failed to import"
     ]
    }
   ],
   "source": [
    "import os\n",
    "import cv2\n",
    "import numpy as np\n",
    "import pandas as pd\n",
    "import matplotlib.pyplot as plt"
   ]
  },
  {
   "cell_type": "code",
   "execution_count": null,
   "metadata": {
    "execution": {
     "iopub.execute_input": "2024-03-16T17:26:05.577466Z",
     "iopub.status.busy": "2024-03-16T17:26:05.577074Z",
     "iopub.status.idle": "2024-03-16T17:26:05.582991Z",
     "shell.execute_reply": "2024-03-16T17:26:05.581996Z",
     "shell.execute_reply.started": "2024-03-16T17:26:05.577432Z"
    },
    "trusted": true
   },
   "outputs": [],
   "source": [
    "# Define functions for loading and resizing images\n",
    "def load_and_resize_image(file_path, target_shape=(128, 128)):\n",
    "    image = cv2.imread(file_path)\n",
    "    resized_image = cv2.resize(image, target_shape)\n",
    "    return resized_image"
   ]
  },
  {
   "cell_type": "code",
   "execution_count": null,
   "metadata": {
    "execution": {
     "iopub.execute_input": "2024-03-16T17:26:05.584315Z",
     "iopub.status.busy": "2024-03-16T17:26:05.584033Z",
     "iopub.status.idle": "2024-03-16T17:26:05.594119Z",
     "shell.execute_reply": "2024-03-16T17:26:05.593177Z",
     "shell.execute_reply.started": "2024-03-16T17:26:05.584291Z"
    },
    "trusted": true
   },
   "outputs": [],
   "source": [
    "# Define the function to load each image class (target) stored by individual directory. \n",
    "# Each class directory containing their respective images\n",
    "def load_image_class_by_directory(image_dir):\n",
    "    # Load and resize images\n",
    "    image_files = os.listdir(image_dir)\n",
    "    images = []\n",
    "    for file in image_files:\n",
    "        if file.endswith('.jpg') or file.endswith('.JPG'):  # Assuming images are in jpg or JPG format\n",
    "            image_path = os.path.join(image_dir, file)\n",
    "            resized_image = load_and_resize_image(image_path)\n",
    "            images.append(resized_image)\n",
    "\n",
    "    print(f\"Num of images: {len(images)}\")        \n",
    "    print(f\"Single image shape before flattening: {images[0].shape}\")\n",
    "    return images"
   ]
  },
  {
   "cell_type": "code",
   "execution_count": null,
   "metadata": {
    "execution": {
     "iopub.execute_input": "2024-03-16T17:26:05.595589Z",
     "iopub.status.busy": "2024-03-16T17:26:05.595281Z",
     "iopub.status.idle": "2024-03-16T17:26:05.60403Z",
     "shell.execute_reply": "2024-03-16T17:26:05.603102Z",
     "shell.execute_reply.started": "2024-03-16T17:26:05.595563Z"
    },
    "trusted": true
   },
   "outputs": [],
   "source": [
    "# Display some images\n",
    "def display_images(images, num_images_to_display = 6):\n",
    "    fig, axes = plt.subplots(1, num_images_to_display, figsize=(20, 5))\n",
    "    for i in range(num_images_to_display):\n",
    "        # Convert the image to a supported depth (e.g., CV_8U) before color conversion\n",
    "        image = images[i].astype(np.uint8)\n",
    "        axes[i].imshow(cv2.cvtColor(image, cv2.COLOR_BGR2RGB))  # Convert BGR to RGB for displaying with matplotlib\n",
    "        axes[i].axis('off')\n",
    "    plt.show()"
   ]
  },
  {
   "cell_type": "code",
   "execution_count": null,
   "metadata": {
    "execution": {
     "iopub.execute_input": "2024-03-16T17:27:21.144641Z",
     "iopub.status.busy": "2024-03-16T17:27:21.144243Z",
     "iopub.status.idle": "2024-03-16T17:27:31.808842Z",
     "shell.execute_reply": "2024-03-16T17:27:31.807905Z",
     "shell.execute_reply.started": "2024-03-16T17:27:21.14461Z"
    },
    "trusted": true
   },
   "outputs": [],
   "source": [
    "# Define the directory containing images\n",
    "image_dir = \"/kaggle/input/rice-leaf-disease-image/Bacterialblight\"\n",
    "images_Bacterialblight = load_image_class_by_directory(image_dir)\n",
    "display_images(images_Bacterialblight)"
   ]
  },
  {
   "cell_type": "code",
   "execution_count": null,
   "metadata": {
    "execution": {
     "iopub.execute_input": "2024-03-16T17:27:56.589497Z",
     "iopub.status.busy": "2024-03-16T17:27:56.589133Z",
     "iopub.status.idle": "2024-03-16T17:28:08.595531Z",
     "shell.execute_reply": "2024-03-16T17:28:08.594638Z",
     "shell.execute_reply.started": "2024-03-16T17:27:56.589467Z"
    },
    "trusted": true
   },
   "outputs": [],
   "source": [
    "# Define the directory containing images\n",
    "image_dir = \"/kaggle/input/rice-leaf-disease-image/Blast\"\n",
    "images_Blast = load_image_class_by_directory(image_dir)\n",
    "display_images(images_Blast)"
   ]
  },
  {
   "cell_type": "code",
   "execution_count": null,
   "metadata": {
    "execution": {
     "iopub.execute_input": "2024-03-16T17:28:20.492098Z",
     "iopub.status.busy": "2024-03-16T17:28:20.491392Z",
     "iopub.status.idle": "2024-03-16T17:28:28.778289Z",
     "shell.execute_reply": "2024-03-16T17:28:28.777173Z",
     "shell.execute_reply.started": "2024-03-16T17:28:20.492065Z"
    },
    "trusted": true
   },
   "outputs": [],
   "source": [
    "# Define the directory containing images\n",
    "image_dir = \"/kaggle/input/rice-leaf-disease-image/Brownspot\"\n",
    "images_Brownspot = load_image_class_by_directory(image_dir)\n",
    "display_images(images_Brownspot)"
   ]
  },
  {
   "cell_type": "code",
   "execution_count": null,
   "metadata": {
    "execution": {
     "iopub.execute_input": "2024-03-16T17:28:45.05173Z",
     "iopub.status.busy": "2024-03-16T17:28:45.050854Z",
     "iopub.status.idle": "2024-03-16T17:28:53.261714Z",
     "shell.execute_reply": "2024-03-16T17:28:53.26086Z",
     "shell.execute_reply.started": "2024-03-16T17:28:45.051693Z"
    },
    "trusted": true
   },
   "outputs": [],
   "source": [
    "# Define the directory containing images\n",
    "image_dir = \"/kaggle/input/rice-leaf-disease-image/Tungro\"\n",
    "images_Tungro = load_image_class_by_directory(image_dir)\n",
    "display_images(images_Tungro)"
   ]
  },
  {
   "cell_type": "code",
   "execution_count": null,
   "metadata": {
    "execution": {
     "iopub.execute_input": "2024-03-16T18:01:53.279245Z",
     "iopub.status.busy": "2024-03-16T18:01:53.278345Z",
     "iopub.status.idle": "2024-03-16T18:01:53.285704Z",
     "shell.execute_reply": "2024-03-16T18:01:53.284721Z",
     "shell.execute_reply.started": "2024-03-16T18:01:53.279212Z"
    },
    "trusted": true
   },
   "outputs": [],
   "source": [
    "# Define class labels\n",
    "classes = {'Bacterialblight': 0, 'Blast': 1, 'Brownspot': 2, 'Tungro': 3} \n",
    "inverted_classes = {0: 'Bacterialblight', 1: 'Blast', 2: 'Brownspot', 3: 'Tungro'}\n",
    "\n",
    "images_lst_lst = [images_Bacterialblight, images_Blast, images_Brownspot, images_Tungro]\n",
    "# Dictionary to store the number of image samples\n",
    "classes_dict = {}\n",
    "for i, images in enumerate(images_lst_lst):\n",
    "    classes_dict.update({inverted_classes[i]: len(images)})\n",
    "    print(f'Disease: {inverted_classes[i]} --- Images: {len(images)}')"
   ]
  },
  {
   "cell_type": "code",
   "execution_count": null,
   "metadata": {},
   "outputs": [],
   "source": [
    "# Now, plot the classes\n",
    "plt.bar(*zip(*classes_dict.items()))\n",
    "plt.show()"
   ]
  },
  {
   "cell_type": "code",
   "execution_count": null,
   "metadata": {
    "execution": {
     "iopub.execute_input": "2024-03-16T17:39:07.80056Z",
     "iopub.status.busy": "2024-03-16T17:39:07.800195Z",
     "iopub.status.idle": "2024-03-16T17:39:07.806452Z",
     "shell.execute_reply": "2024-03-16T17:39:07.805462Z",
     "shell.execute_reply.started": "2024-03-16T17:39:07.80053Z"
    },
    "trusted": true
   },
   "outputs": [],
   "source": [
    "# Function to flatten the RGB values from 2D to 1D, returns a numpy array\n",
    "def flatten_images(images):\n",
    "    data_flattened = []\n",
    "    for image in images:\n",
    "        flattened_image = image.reshape(-1)  # Flatten the image\n",
    "        data_flattened.append(flattened_image)\n",
    "        \n",
    "        \n",
    "    print(f\"Num of images: {len(data_flattened)}\")\n",
    "    print(f\"Single image shape after flattening: {data_flattened[0].shape}\")\n",
    "    \n",
    "    # Convert data to numpy array for further processing\n",
    "    data_flattened = np.array(data_flattened)\n",
    "    return data_flattened"
   ]
  },
  {
   "cell_type": "code",
   "execution_count": null,
   "metadata": {
    "execution": {
     "iopub.execute_input": "2024-03-16T17:39:09.24034Z",
     "iopub.status.busy": "2024-03-16T17:39:09.239984Z",
     "iopub.status.idle": "2024-03-16T17:39:09.246457Z",
     "shell.execute_reply": "2024-03-16T17:39:09.245336Z",
     "shell.execute_reply.started": "2024-03-16T17:39:09.24031Z"
    },
    "trusted": true
   },
   "outputs": [],
   "source": [
    "# Function to assign class labels: returns a numpy array\n",
    "def assign_image_class_label(images, class_label = int):\n",
    "    data_labeled = []\n",
    "    # Flatten the images\n",
    "    data_flattened = flatten_images(images)\n",
    "    \n",
    "    for image in data_flattened:\n",
    "        # Assign class label\n",
    "        data_labeled.append(np.concatenate([image, [class_label]]))\n",
    "    \n",
    "    print(f\"Num of images: {len(data_labeled)}\")\n",
    "    print(f\"Single data shape with label: {data_labeled[0].shape} --- Class label: {class_label}\\n\")\n",
    "    \n",
    "    # Convert data to numpy array for further processing\n",
    "    data_labeled = np.array(data_labeled)\n",
    "    return data_labeled"
   ]
  },
  {
   "cell_type": "code",
   "execution_count": null,
   "metadata": {
    "execution": {
     "iopub.execute_input": "2024-03-16T17:39:13.004758Z",
     "iopub.status.busy": "2024-03-16T17:39:13.004122Z",
     "iopub.status.idle": "2024-03-16T17:39:13.010648Z",
     "shell.execute_reply": "2024-03-16T17:39:13.009667Z",
     "shell.execute_reply.started": "2024-03-16T17:39:13.004723Z"
    },
    "trusted": true
   },
   "outputs": [],
   "source": [
    "# Function to concatenate the arrays into a pandas dataframe, horizontally\n",
    "def concat_arrays_to_dataframe(arrays = []):\n",
    "    # Combine to a single dataframe, vertically\n",
    "    dataset = np.concatenate(arrays, axis = 0)\n",
    "\n",
    "    # Number of pixel columns, excluding the last label column\n",
    "    num_pix = dataset.shape[1] - 1\n",
    "\n",
    "    # Modify the column names\n",
    "    col_lst = [f\"pixel{col}\" for col in range(num_pix)]\n",
    "    # Append the name of the last column as label\n",
    "    col_lst.append(\"label\")\n",
    "\n",
    "    # Convert to a dataframe and add column names\n",
    "    df_dataset = pd.DataFrame(dataset, columns = col_lst)\n",
    "    \n",
    "    return df_dataset"
   ]
  },
  {
   "cell_type": "code",
   "execution_count": null,
   "metadata": {
    "execution": {
     "iopub.execute_input": "2024-03-16T17:39:14.400354Z",
     "iopub.status.busy": "2024-03-16T17:39:14.399539Z",
     "iopub.status.idle": "2024-03-16T17:39:14.405446Z",
     "shell.execute_reply": "2024-03-16T17:39:14.4045Z",
     "shell.execute_reply.started": "2024-03-16T17:39:14.400316Z"
    },
    "trusted": true
   },
   "outputs": [],
   "source": [
    "# Split the image files into train - test set.\n",
    "def split_train_test_files(images_lst_lst = [], num_test_set = int):\n",
    "    train_images_lst_lst = []\n",
    "    test_images_lst_lst = []\n",
    "    # Iterate through the first class of images\n",
    "    for images in images_lst_lst:\n",
    "        train_set = images[num_test_set:]\n",
    "        test_set = images[:num_test_set]\n",
    "        \n",
    "        train_images_lst_lst.append(train_set)\n",
    "        test_images_lst_lst.append(test_set)\n",
    "        \n",
    "    return train_images_lst_lst, test_images_lst_lst"
   ]
  },
  {
   "cell_type": "code",
   "execution_count": null,
   "metadata": {
    "execution": {
     "iopub.execute_input": "2024-03-16T17:39:19.593254Z",
     "iopub.status.busy": "2024-03-16T17:39:19.592611Z",
     "iopub.status.idle": "2024-03-16T17:39:19.597599Z",
     "shell.execute_reply": "2024-03-16T17:39:19.596649Z",
     "shell.execute_reply.started": "2024-03-16T17:39:19.593218Z"
    },
    "trusted": true
   },
   "outputs": [],
   "source": [
    "# Number of images to set aside as test set per class\n",
    "num_test_set = 20\n",
    "\n",
    "# Split the image files into train - test set.\n",
    "train_images, test_images = split_train_test_files(images_lst_lst, num_test_set)"
   ]
  },
  {
   "cell_type": "code",
   "execution_count": null,
   "metadata": {
    "execution": {
     "iopub.execute_input": "2024-03-16T17:39:26.802383Z",
     "iopub.status.busy": "2024-03-16T17:39:26.801556Z",
     "iopub.status.idle": "2024-03-16T17:39:29.152299Z",
     "shell.execute_reply": "2024-03-16T17:39:29.151371Z",
     "shell.execute_reply.started": "2024-03-16T17:39:26.802345Z"
    },
    "trusted": true
   },
   "outputs": [],
   "source": [
    "images_lst_array = []\n",
    "# Iterate through the classes, the class index i will represent the class name/label\n",
    "for i, images in enumerate(train_images):\n",
    "    # Assign label to each of the images\n",
    "    labeled = assign_image_class_label(images, i)\n",
    "    images_lst_array.append(labeled)"
   ]
  },
  {
   "cell_type": "code",
   "execution_count": null,
   "metadata": {
    "execution": {
     "iopub.execute_input": "2024-03-16T17:39:35.64305Z",
     "iopub.status.busy": "2024-03-16T17:39:35.642201Z",
     "iopub.status.idle": "2024-03-16T17:39:36.496793Z",
     "shell.execute_reply": "2024-03-16T17:39:36.495852Z",
     "shell.execute_reply.started": "2024-03-16T17:39:35.643015Z"
    },
    "trusted": true
   },
   "outputs": [],
   "source": [
    "# Concatenate arrays to dataframe\n",
    "df_images = concat_arrays_to_dataframe(images_lst_array)\n",
    "df_images.head()"
   ]
  },
  {
   "cell_type": "code",
   "execution_count": null,
   "metadata": {
    "execution": {
     "iopub.execute_input": "2024-03-16T17:39:50.364226Z",
     "iopub.status.busy": "2024-03-16T17:39:50.363848Z",
     "iopub.status.idle": "2024-03-16T17:39:51.083917Z",
     "shell.execute_reply": "2024-03-16T17:39:51.082974Z",
     "shell.execute_reply.started": "2024-03-16T17:39:50.36419Z"
    },
    "trusted": true
   },
   "outputs": [],
   "source": [
    "from sklearn.model_selection import train_test_split\n",
    "import random"
   ]
  },
  {
   "cell_type": "code",
   "execution_count": null,
   "metadata": {
    "execution": {
     "iopub.execute_input": "2024-03-16T17:39:53.499218Z",
     "iopub.status.busy": "2024-03-16T17:39:53.498653Z",
     "iopub.status.idle": "2024-03-16T17:39:54.268257Z",
     "shell.execute_reply": "2024-03-16T17:39:54.267226Z",
     "shell.execute_reply.started": "2024-03-16T17:39:53.499185Z"
    },
    "trusted": true
   },
   "outputs": [],
   "source": [
    "X_images = df_images.drop(\"label\", axis = 1)\n",
    "y_images = df_images[\"label\"]"
   ]
  },
  {
   "cell_type": "code",
   "execution_count": null,
   "metadata": {
    "execution": {
     "iopub.execute_input": "2024-03-16T17:39:56.042619Z",
     "iopub.status.busy": "2024-03-16T17:39:56.041931Z",
     "iopub.status.idle": "2024-03-16T17:39:56.708628Z",
     "shell.execute_reply": "2024-03-16T17:39:56.707662Z",
     "shell.execute_reply.started": "2024-03-16T17:39:56.042582Z"
    },
    "trusted": true
   },
   "outputs": [],
   "source": [
    "X_train, X_val, y_train, y_val = train_test_split(X_images, y_images, test_size = 0.25, random_state = 2, shuffle=True)\n",
    "print(\"Shape of train X:\", X_train.shape)\n",
    "print(\"Shape of train Y:\", y_train.shape)\n",
    "print(\"Shape of val X:\", X_val.shape)\n",
    "print(\"Shape of val Y:\", y_val.shape)"
   ]
  },
  {
   "cell_type": "code",
   "execution_count": null,
   "metadata": {
    "execution": {
     "iopub.execute_input": "2024-03-16T17:39:59.089099Z",
     "iopub.status.busy": "2024-03-16T17:39:59.088721Z",
     "iopub.status.idle": "2024-03-16T17:40:00.183339Z",
     "shell.execute_reply": "2024-03-16T17:40:00.182418Z",
     "shell.execute_reply.started": "2024-03-16T17:39:59.089065Z"
    },
    "trusted": true
   },
   "outputs": [],
   "source": [
    "# Display some images before scaling\n",
    "X_train_RGB = np.array(X_train).reshape(-1, 128, 128, 3)\n",
    "display_images(X_train_RGB)"
   ]
  },
  {
   "cell_type": "code",
   "execution_count": null,
   "metadata": {
    "execution": {
     "iopub.execute_input": "2024-03-16T17:40:03.044399Z",
     "iopub.status.busy": "2024-03-16T17:40:03.043812Z",
     "iopub.status.idle": "2024-03-16T17:40:03.732548Z",
     "shell.execute_reply": "2024-03-16T17:40:03.731631Z",
     "shell.execute_reply.started": "2024-03-16T17:40:03.04436Z"
    },
    "trusted": true
   },
   "outputs": [],
   "source": [
    "# Display some images before scaling\n",
    "X_val_RGB = np.array(X_val).reshape(-1, 128, 128, 3)\n",
    "display_images(X_val_RGB)"
   ]
  },
  {
   "cell_type": "code",
   "execution_count": null,
   "metadata": {
    "execution": {
     "iopub.execute_input": "2024-03-16T17:40:08.527742Z",
     "iopub.status.busy": "2024-03-16T17:40:08.526906Z",
     "iopub.status.idle": "2024-03-16T17:40:08.531463Z",
     "shell.execute_reply": "2024-03-16T17:40:08.530521Z",
     "shell.execute_reply.started": "2024-03-16T17:40:08.527709Z"
    },
    "trusted": true
   },
   "outputs": [],
   "source": [
    "from sklearn.preprocessing import MinMaxScaler"
   ]
  },
  {
   "cell_type": "code",
   "execution_count": null,
   "metadata": {
    "execution": {
     "iopub.execute_input": "2024-03-16T17:40:09.234831Z",
     "iopub.status.busy": "2024-03-16T17:40:09.233997Z",
     "iopub.status.idle": "2024-03-16T17:40:13.821594Z",
     "shell.execute_reply": "2024-03-16T17:40:13.820809Z",
     "shell.execute_reply.started": "2024-03-16T17:40:09.234799Z"
    },
    "trusted": true
   },
   "outputs": [],
   "source": [
    "# The pixel values ranges from 0 to 255. The MinMaxScaler makes it from 0 to 1. \n",
    "# This reduces the magnitude sensitivity of the activation function for the choosen ML algorithm.\n",
    "scaler = MinMaxScaler(feature_range = (0, 1))\n",
    "\n",
    "# Convert to numpy array to remove feature names before fitting\n",
    "scaler = scaler.fit(np.array(X_train))\n",
    "X_train_np = scaler.transform(np.array(X_train))\n",
    "X_val_np = scaler.transform(np.array(X_val))\n",
    "\n",
    "# Reshape to RGB format\n",
    "X_train_RGB = np.array(X_train_np).reshape(-1, 128, 128, 3)\n",
    "X_val_RGB = np.array(X_val_np).reshape(-1, 128, 128, 3)\n",
    "\n",
    "# Reshape targets\n",
    "y_train = y_train.values.reshape(len(y_train), 1)\n",
    "y_val = y_val.values.reshape(len(y_val), 1)"
   ]
  },
  {
   "cell_type": "code",
   "execution_count": null,
   "metadata": {
    "execution": {
     "iopub.execute_input": "2024-03-16T17:40:13.823253Z",
     "iopub.status.busy": "2024-03-16T17:40:13.822964Z",
     "iopub.status.idle": "2024-03-16T17:40:13.828971Z",
     "shell.execute_reply": "2024-03-16T17:40:13.827851Z",
     "shell.execute_reply.started": "2024-03-16T17:40:13.823226Z"
    },
    "trusted": true
   },
   "outputs": [],
   "source": [
    "print(\"Shape of train X:\", X_train_RGB.shape)\n",
    "print(\"Shape of train Y:\", y_train.shape)\n",
    "print(\"Shape of val X:\", X_val_RGB.shape)\n",
    "print(\"Shape of val Y:\", y_val.shape)"
   ]
  },
  {
   "cell_type": "code",
   "execution_count": null,
   "metadata": {
    "execution": {
     "iopub.execute_input": "2024-03-16T17:40:13.895309Z",
     "iopub.status.busy": "2024-03-16T17:40:13.895057Z",
     "iopub.status.idle": "2024-03-16T17:40:26.84747Z",
     "shell.execute_reply": "2024-03-16T17:40:26.846448Z",
     "shell.execute_reply.started": "2024-03-16T17:40:13.895287Z"
    },
    "trusted": true
   },
   "outputs": [],
   "source": [
    "from tensorflow.keras.models import Sequential\n",
    "from tensorflow.keras.layers import Conv2D, MaxPooling2D, Flatten, Dense, Dropout, Input\n",
    "from tensorflow.keras.optimizers import SGD\n",
    "from tensorflow.keras.preprocessing.image import ImageDataGenerator\n",
    "\n",
    "# To avoid overfitting\n",
    "from tensorflow.keras.callbacks import EarlyStopping \n",
    "\n",
    "# Target variable needs one-hot encoding to ensure each example has a probability of 1.0 for its actual class and 0.0 for others.\n",
    "# Use Keras to_categorical() function for achieving this.\n",
    "from tensorflow.keras.utils import to_categorical\n",
    "\n",
    "# Draw live chart of accuracy of neural network\n",
    "from livelossplot import PlotLossesKeras"
   ]
  },
  {
   "cell_type": "code",
   "execution_count": null,
   "metadata": {
    "execution": {
     "iopub.execute_input": "2024-03-16T17:40:26.849579Z",
     "iopub.status.busy": "2024-03-16T17:40:26.849042Z",
     "iopub.status.idle": "2024-03-16T17:40:26.855411Z",
     "shell.execute_reply": "2024-03-16T17:40:26.85439Z",
     "shell.execute_reply.started": "2024-03-16T17:40:26.849552Z"
    },
    "trusted": true
   },
   "outputs": [],
   "source": [
    "# Shape of a single image\n",
    "input_shape = X_train_RGB[0].shape\n",
    "num_train_images = len(X_train_RGB)\n",
    "# Number of classes to be predicted\n",
    "num_classes = 4\n",
    "print(f'Single image shape: {input_shape}')\n",
    "print(f'Number of train images: {num_train_images}')"
   ]
  },
  {
   "cell_type": "code",
   "execution_count": null,
   "metadata": {
    "execution": {
     "iopub.execute_input": "2024-03-16T17:40:30.817857Z",
     "iopub.status.busy": "2024-03-16T17:40:30.816932Z",
     "iopub.status.idle": "2024-03-16T17:40:31.755177Z",
     "shell.execute_reply": "2024-03-16T17:40:31.754298Z",
     "shell.execute_reply.started": "2024-03-16T17:40:30.81782Z"
    },
    "trusted": true
   },
   "outputs": [],
   "source": [
    "# Initialize the sequential model\n",
    "model = Sequential() \n",
    "\n",
    "# Add an input layer with the specified input shape\n",
    "model.add(Input(shape=input_shape))\n",
    "\n",
    "# Add a convolutional layer with 128 filters of size 3x3, using ReLU activation function\n",
    "model.add(Conv2D(128, (3, 3), activation=\"relu\"))\n",
    "\n",
    "# Add a max-pooling layer with a filter size of 2x2\n",
    "model.add(MaxPooling2D((2, 2)))\n",
    "\n",
    "# Add dropout regularization to randomly omit neurons\n",
    "model.add(Dropout(0.5))\n",
    "\n",
    "# Add another convolutional layer with 64 filters of size 3x3, using ReLU activation function\n",
    "model.add(Conv2D(64, (3, 3), activation=\"relu\"))          \n",
    "\n",
    "# Add another max-pooling layer with a filter size of 2x2\n",
    "model.add(MaxPooling2D((2, 2)))\n",
    "\n",
    "# Add dropout regularization to randomly omit neurons\n",
    "model.add(Dropout(0.5))\n",
    "\n",
    "# Flatten the output of the previous layers\n",
    "model.add(Flatten())\n",
    "\n",
    "# Add a dense layer with 256 neurons and ReLU activation function\n",
    "model.add(Dense(256, activation=\"relu\"))\n",
    "\n",
    "# Add dropout regularization to randomly omit neurons\n",
    "model.add(Dropout(0.5))\n",
    "\n",
    "# Add a dense output layer with the number of classes and softmax activation function\n",
    "model.add(Dense(num_classes, activation=\"softmax\"))\n",
    "\n",
    "# Compile the model with categorical crossentropy loss and Stochastic Gradient Descent optimizer\n",
    "opt = SGD(learning_rate=0.0001, momentum=0.9)\n",
    "model.compile(loss=\"categorical_crossentropy\", optimizer=opt, metrics=[\"accuracy\"])\n",
    "\n",
    "# Display a summary of the model architecture\n",
    "model.summary()"
   ]
  },
  {
   "cell_type": "code",
   "execution_count": null,
   "metadata": {
    "execution": {
     "iopub.execute_input": "2024-03-16T17:40:33.020276Z",
     "iopub.status.busy": "2024-03-16T17:40:33.01956Z",
     "iopub.status.idle": "2024-03-16T17:40:33.024655Z",
     "shell.execute_reply": "2024-03-16T17:40:33.023763Z",
     "shell.execute_reply.started": "2024-03-16T17:40:33.020238Z"
    },
    "trusted": true
   },
   "outputs": [],
   "source": [
    "# Initialize Image Augmentation\n",
    "train_datagen = ImageDataGenerator(rotation_range = 10,  # rotation\n",
    "                                   width_shift_range = 0.1,  # horizontal shift\n",
    "                                   height_shift_range = 0.1,\n",
    "                                   zoom_range = 0.1) # zoom"
   ]
  },
  {
   "cell_type": "code",
   "execution_count": null,
   "metadata": {
    "execution": {
     "iopub.execute_input": "2024-03-16T17:40:34.532015Z",
     "iopub.status.busy": "2024-03-16T17:40:34.531643Z",
     "iopub.status.idle": "2024-03-16T17:40:34.536801Z",
     "shell.execute_reply": "2024-03-16T17:40:34.53587Z",
     "shell.execute_reply.started": "2024-03-16T17:40:34.531983Z"
    },
    "trusted": true
   },
   "outputs": [],
   "source": [
    "# Initialize regularization parameters - how many epochs to wait before training stops, if there is no further improvement\n",
    "monitor_val_loss = EarlyStopping(monitor = \"val_loss\", \n",
    "                                 min_delta = 1e-3, \n",
    "                                 patience = 20, # Wait 5 more epochs\n",
    "                                 verbose = 1, \n",
    "                                 mode = \"auto\", \n",
    "                                 restore_best_weights = True)"
   ]
  },
  {
   "cell_type": "code",
   "execution_count": null,
   "metadata": {
    "execution": {
     "iopub.execute_input": "2024-03-16T17:40:35.611997Z",
     "iopub.status.busy": "2024-03-16T17:40:35.611619Z",
     "iopub.status.idle": "2024-03-16T17:55:35.062562Z",
     "shell.execute_reply": "2024-03-16T17:55:35.061675Z",
     "shell.execute_reply.started": "2024-03-16T17:40:35.611958Z"
    },
    "trusted": true
   },
   "outputs": [],
   "source": [
    "# Target variable needs one-hot encoding to ensure each example has a probability of 1.0 for its actual class and 0.0 for others.\n",
    "# Use Keras to_categorical() function for achieving this.\n",
    "\n",
    "epochs = 100\n",
    "batch_size = 64\n",
    "\n",
    "# Using the flow method to augment the image on the fly.\n",
    "training_data = train_datagen.flow(X_train_RGB, to_categorical(y_train), batch_size = batch_size)\n",
    "# Model evaluation\n",
    "validation_data = (X_val_RGB, to_categorical(y_val))\n",
    "\n",
    "history = model.fit(training_data,\n",
    "                    epochs = epochs,\n",
    "                    steps_per_epoch = num_train_images // batch_size, # Number of iterations per epoch\n",
    "                    batch_size = batch_size,\n",
    "                    validation_data = validation_data, \n",
    "                    callbacks = [PlotLossesKeras(), monitor_val_loss], #live chart\n",
    "                    verbose = 1\n",
    "                   )"
   ]
  },
  {
   "cell_type": "code",
   "execution_count": null,
   "metadata": {
    "execution": {
     "iopub.execute_input": "2024-03-16T17:55:35.064869Z",
     "iopub.status.busy": "2024-03-16T17:55:35.064427Z",
     "iopub.status.idle": "2024-03-16T17:55:35.516834Z",
     "shell.execute_reply": "2024-03-16T17:55:35.516002Z",
     "shell.execute_reply.started": "2024-03-16T17:55:35.064833Z"
    },
    "trusted": true
   },
   "outputs": [],
   "source": [
    "# Save model\n",
    "model.save(\"/kaggle/working/rice_disease_detector_model.keras\")"
   ]
  },
  {
   "cell_type": "code",
   "execution_count": null,
   "metadata": {
    "execution": {
     "iopub.execute_input": "2024-03-16T17:55:46.290405Z",
     "iopub.status.busy": "2024-03-16T17:55:46.289689Z",
     "iopub.status.idle": "2024-03-16T17:55:46.296494Z",
     "shell.execute_reply": "2024-03-16T17:55:46.295304Z",
     "shell.execute_reply.started": "2024-03-16T17:55:46.290369Z"
    },
    "trusted": true
   },
   "outputs": [],
   "source": [
    "# Function to scale and reshape the images for each class\n",
    "def scale_and_reshape_images(flattened_images_lst = []):\n",
    "    images_scaled_RGB_lst = []\n",
    "    for images in flattened_images_lst:\n",
    "        # Scale images using same scaller used for the train and val set\n",
    "        images_scaled = scaler.transform(images)\n",
    "        # Reshape to RGB format\n",
    "        images_scaled_RGB = np.array(images_scaled).reshape(-1, 128, 128, 3)\n",
    "        \n",
    "        images_scaled_RGB_lst.append(images_scaled_RGB)\n",
    "    return images_scaled_RGB_lst"
   ]
  },
  {
   "cell_type": "code",
   "execution_count": null,
   "metadata": {
    "execution": {
     "iopub.execute_input": "2024-03-16T17:55:46.932834Z",
     "iopub.status.busy": "2024-03-16T17:55:46.931868Z",
     "iopub.status.idle": "2024-03-16T17:55:46.938561Z",
     "shell.execute_reply": "2024-03-16T17:55:46.937497Z",
     "shell.execute_reply.started": "2024-03-16T17:55:46.932795Z"
    },
    "trusted": true
   },
   "outputs": [],
   "source": [
    "# Display a single image\n",
    "def display_image(image_single):\n",
    "    image_flat = image_single.reshape(1, -1) # Flatten image\n",
    "    image_inv = scaler.inverse_transform(image_flat) # Inverse transform image\n",
    "    image_reshaped = image_inv.reshape(128, 128, 3)\n",
    "    \n",
    "    image = image_reshaped.astype(np.uint8)\n",
    "    plt.imshow(cv2.cvtColor(image, cv2.COLOR_BGR2RGB)) \n",
    "    plt.show()"
   ]
  },
  {
   "cell_type": "code",
   "execution_count": null,
   "metadata": {
    "execution": {
     "iopub.execute_input": "2024-03-16T17:55:47.578527Z",
     "iopub.status.busy": "2024-03-16T17:55:47.577833Z",
     "iopub.status.idle": "2024-03-16T17:55:47.583663Z",
     "shell.execute_reply": "2024-03-16T17:55:47.582638Z",
     "shell.execute_reply.started": "2024-03-16T17:55:47.578492Z"
    },
    "trusted": true
   },
   "outputs": [],
   "source": [
    "# Interprete model prediction: returns the predicted class and the confidence level in %\n",
    "def interpret_model_prediction(predictions):\n",
    "    # Convert inferences to list and \n",
    "    pred_lst = predictions[0,:].tolist()\n",
    "    # Get the max value\n",
    "    max_proba = max(pred_lst)\n",
    "    # Get the index position of the max_probability\n",
    "    pred_idx = pred_lst.index(max_proba)\n",
    "    \n",
    "    return pred_idx, max_proba"
   ]
  },
  {
   "cell_type": "code",
   "execution_count": null,
   "metadata": {
    "execution": {
     "iopub.execute_input": "2024-03-16T17:55:48.174071Z",
     "iopub.status.busy": "2024-03-16T17:55:48.173662Z",
     "iopub.status.idle": "2024-03-16T17:55:48.181008Z",
     "shell.execute_reply": "2024-03-16T17:55:48.179908Z",
     "shell.execute_reply.started": "2024-03-16T17:55:48.174026Z"
    },
    "trusted": true
   },
   "outputs": [],
   "source": [
    "# Define the function to make the inferences/predictions. \n",
    "# Takes the actual value (String) and the image index (int from 0 to n, where n is the num_test_set)\n",
    "def make_predictions(scaled_RGB_lst, image_class = '', image_idx = int):\n",
    "    # Get the numerical value of the class form the defined classes dictionary\n",
    "    class_val = classes[image_class]\n",
    "    \n",
    "    # Get the single image\n",
    "    image_single = scaled_RGB_lst[class_val][image_idx]\n",
    "    \n",
    "    # Make prediction for one image. Has to be reshaped\n",
    "    pred = model.predict(image_single.reshape(1, 128, 128, 3))\n",
    "    \n",
    "    # Interpret model predictions\n",
    "    pred_class, confidence = interpret_model_prediction(pred)\n",
    "    \n",
    "    # Display image\n",
    "    display_image(image_single)\n",
    "    \n",
    "    print(f\"Actual: {image_class}\")\n",
    "    print(f\"Predicted: {list(classes.keys())[pred_class]}\")\n",
    "    print(f'Confidence: {round(confidence, 4)}')"
   ]
  },
  {
   "cell_type": "code",
   "execution_count": null,
   "metadata": {
    "execution": {
     "iopub.execute_input": "2024-03-16T17:55:48.754647Z",
     "iopub.status.busy": "2024-03-16T17:55:48.754269Z",
     "iopub.status.idle": "2024-03-16T17:55:48.766196Z",
     "shell.execute_reply": "2024-03-16T17:55:48.765124Z",
     "shell.execute_reply.started": "2024-03-16T17:55:48.754616Z"
    },
    "trusted": true
   },
   "outputs": [],
   "source": [
    "# Flatten the images\n",
    "images_lst_array = []\n",
    "for images in test_images:\n",
    "    # Function returns two values\n",
    "    flattened = flatten_images(images) # num_test_set is the number of images set aside as test set\n",
    "\n",
    "    images_lst_array.append(flattened)"
   ]
  },
  {
   "cell_type": "code",
   "execution_count": null,
   "metadata": {
    "execution": {
     "iopub.execute_input": "2024-03-16T17:55:50.001668Z",
     "iopub.status.busy": "2024-03-16T17:55:50.001302Z",
     "iopub.status.idle": "2024-03-16T17:55:50.022461Z",
     "shell.execute_reply": "2024-03-16T17:55:50.02147Z",
     "shell.execute_reply.started": "2024-03-16T17:55:50.001639Z"
    },
    "trusted": true
   },
   "outputs": [],
   "source": [
    "# Normalize and reshape the images for each class\n",
    "images_scaled_RGB_lst = scale_and_reshape_images(images_lst_array)"
   ]
  },
  {
   "cell_type": "code",
   "execution_count": null,
   "metadata": {
    "execution": {
     "iopub.execute_input": "2024-03-16T17:55:51.448414Z",
     "iopub.status.busy": "2024-03-16T17:55:51.448027Z",
     "iopub.status.idle": "2024-03-16T17:55:53.750396Z",
     "shell.execute_reply": "2024-03-16T17:55:53.749309Z",
     "shell.execute_reply.started": "2024-03-16T17:55:51.448383Z"
    },
    "trusted": true
   },
   "outputs": [],
   "source": [
    "# Keys from the classes dictionary defined above\n",
    "class_keys = list(classes.keys())\n",
    "# Image index from the test set \n",
    "image_idx = 2\n",
    "for key in class_keys:\n",
    "    make_predictions(images_scaled_RGB_lst, key, image_idx)"
   ]
  }
 ],
 "metadata": {
  "kaggle": {
   "accelerator": "nvidiaTeslaT4",
   "dataSources": [
    {
     "datasetId": 4245440,
     "sourceId": 7316033,
     "sourceType": "datasetVersion"
    }
   ],
   "dockerImageVersionId": 30664,
   "isGpuEnabled": true,
   "isInternetEnabled": false,
   "language": "python",
   "sourceType": "notebook"
  },
  "kernelspec": {
   "display_name": "Python 3",
   "language": "python",
   "name": "python3"
  },
  "language_info": {
   "codemirror_mode": {
    "name": "ipython",
    "version": 3
   },
   "file_extension": ".py",
   "mimetype": "text/x-python",
   "name": "python",
   "nbconvert_exporter": "python",
   "pygments_lexer": "ipython3",
   "version": "3.11.9"
  }
 },
 "nbformat": 4,
 "nbformat_minor": 4
}
